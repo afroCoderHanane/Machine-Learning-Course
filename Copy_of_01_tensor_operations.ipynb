{
  "nbformat": 4,
  "nbformat_minor": 0,
  "metadata": {
    "kernelspec": {
      "display_name": "Python 3",
      "language": "python",
      "name": "python3"
    },
    "language_info": {
      "codemirror_mode": {
        "name": "ipython",
        "version": 3
      },
      "file_extension": ".py",
      "mimetype": "text/x-python",
      "name": "python",
      "nbconvert_exporter": "python",
      "pygments_lexer": "ipython3",
      "version": "3.7.6"
    },
    "colab": {
      "name": "Copy of 01-tensor-operations.ipynb",
      "provenance": [],
      "toc_visible": true
    }
  },
  "cells": [
    {
      "cell_type": "code",
      "metadata": {
        "id": "gXCjDf0RqEOz",
        "colab_type": "code",
        "colab": {}
      },
      "source": [
        "# Import torch and other required modules\n",
        "import torch"
      ],
      "execution_count": 0,
      "outputs": []
    },
    {
      "cell_type": "markdown",
      "metadata": {
        "id": "HgQ9bJZtqEOw",
        "colab_type": "text"
      },
      "source": [
        "#  Machine Learning: Pytorch Functions\n",
        "\n",
        "### Introduction\n",
        "\n",
        "Pytorch is a machine learning frameworks used for purposes such as Natural language Processing, computer vision among others. Pytorch has a huge library of functions but my study today will focus on 5 functions which are:\n",
        "- function 1-torch.unique()\n",
        "- function 2-torch.prod()\n",
        "- function 3-torch.norm()\n",
        "- function 4-torch.median()\n",
        "- function 5-torch.argmax()"
      ]
    },
    {
      "cell_type": "markdown",
      "metadata": {
        "id": "K0bzUjx3qEO2",
        "colab_type": "text"
      },
      "source": [
        "## Function 1 - torch.unique ()\n",
        "\n",
        "     return the unique element of the input tensor"
      ]
    },
    {
      "cell_type": "code",
      "metadata": {
        "id": "NlwkpDgUqEO3",
        "colab_type": "code",
        "outputId": "3a6680b8-4f05-4529-ecb8-bce481de9c24",
        "colab": {
          "base_uri": "https://localhost:8080/",
          "height": 34
        }
      },
      "source": [
        "# Example 1 - working tensor and type long array\n",
        "input = torch.tensor([1, 3, 2, 3]  ,dtype=torch.long)\n",
        "output = torch.unique(input)\n",
        "output"
      ],
      "execution_count": 0,
      "outputs": [
        {
          "output_type": "execute_result",
          "data": {
            "text/plain": [
              "tensor([1, 2, 3])"
            ]
          },
          "metadata": {
            "tags": []
          },
          "execution_count": 4
        }
      ]
    },
    {
      "cell_type": "markdown",
      "metadata": {
        "id": "r2phVNg4qEO7",
        "colab_type": "text"
      },
      "source": [
        "The input is printed in increasing order with no repetitive number."
      ]
    },
    {
      "cell_type": "code",
      "metadata": {
        "id": "YagkKQvqqEO7",
        "colab_type": "code",
        "colab": {}
      },
      "source": [
        "# Example 2 - use of inverses_indices for torch unique"
      ],
      "execution_count": 0,
      "outputs": []
    },
    {
      "cell_type": "markdown",
      "metadata": {
        "id": "WTPdaXtOqEO-",
        "colab_type": "text"
      },
      "source": [
        "if Inverse_indices is true, there will ve an additional returned tensor(same shape as input) representing the indices for where elements in the original input map to in the output; otherwise, this function will only return a single tensor."
      ]
    },
    {
      "cell_type": "code",
      "metadata": {
        "id": "2tACCUnXukJE",
        "colab_type": "code",
        "outputId": "11329cf6-ea32-420f-be3c-15e5f6c0754b",
        "colab": {
          "base_uri": "https://localhost:8080/",
          "height": 34
        }
      },
      "source": [
        "output, inverse_indices = torch.unique(\n",
        "        torch.tensor([1, 3, 2, 3], dtype=torch.long), sorted=True, return_inverse=True)\n",
        "output\n",
        "\n",
        "inverse_indices"
      ],
      "execution_count": 0,
      "outputs": [
        {
          "output_type": "execute_result",
          "data": {
            "text/plain": [
              "tensor([0, 2, 1, 2])"
            ]
          },
          "metadata": {
            "tags": []
          },
          "execution_count": 6
        }
      ]
    },
    {
      "cell_type": "code",
      "metadata": {
        "id": "ARJneHzwqEO_",
        "colab_type": "code",
        "outputId": "b4360636-2217-4f50-9304-6da02d1f8ae4",
        "colab": {
          "base_uri": "https://localhost:8080/",
          "height": 212
        }
      },
      "source": [
        "# Example 3 - breaking when the dtype is entered in unique \n",
        "input = torch.tensor([1, 3, 2, 3]  )\n",
        "output = torch.unique(input, dtype=float)\n",
        "output"
      ],
      "execution_count": 0,
      "outputs": [
        {
          "output_type": "error",
          "ename": "TypeError",
          "evalue": "ignored",
          "traceback": [
            "\u001b[0;31m---------------------------------------------------------------------------\u001b[0m",
            "\u001b[0;31mTypeError\u001b[0m                                 Traceback (most recent call last)",
            "\u001b[0;32m<ipython-input-8-60578f217de5>\u001b[0m in \u001b[0;36m<module>\u001b[0;34m()\u001b[0m\n\u001b[1;32m      1\u001b[0m \u001b[0;31m# Example 3 - breaking (to illustrate when it breaks)\u001b[0m\u001b[0;34m\u001b[0m\u001b[0;34m\u001b[0m\u001b[0;34m\u001b[0m\u001b[0m\n\u001b[1;32m      2\u001b[0m \u001b[0minput\u001b[0m \u001b[0;34m=\u001b[0m \u001b[0mtorch\u001b[0m\u001b[0;34m.\u001b[0m\u001b[0mtensor\u001b[0m\u001b[0;34m(\u001b[0m\u001b[0;34m[\u001b[0m\u001b[0;36m1\u001b[0m\u001b[0;34m,\u001b[0m \u001b[0;36m3\u001b[0m\u001b[0;34m,\u001b[0m \u001b[0;36m2\u001b[0m\u001b[0;34m,\u001b[0m \u001b[0;36m3\u001b[0m\u001b[0;34m]\u001b[0m  \u001b[0;34m)\u001b[0m\u001b[0;34m\u001b[0m\u001b[0;34m\u001b[0m\u001b[0m\n\u001b[0;32m----> 3\u001b[0;31m \u001b[0moutput\u001b[0m \u001b[0;34m=\u001b[0m \u001b[0mtorch\u001b[0m\u001b[0;34m.\u001b[0m\u001b[0munique\u001b[0m\u001b[0;34m(\u001b[0m\u001b[0minput\u001b[0m\u001b[0;34m,\u001b[0m \u001b[0mdtype\u001b[0m\u001b[0;34m=\u001b[0m\u001b[0mfloat\u001b[0m\u001b[0;34m)\u001b[0m\u001b[0;34m\u001b[0m\u001b[0;34m\u001b[0m\u001b[0m\n\u001b[0m\u001b[1;32m      4\u001b[0m \u001b[0moutput\u001b[0m\u001b[0;34m\u001b[0m\u001b[0;34m\u001b[0m\u001b[0m\n",
            "\u001b[0;31mTypeError\u001b[0m: unique() got an unexpected keyword argument 'dtype'"
          ]
        }
      ]
    },
    {
      "cell_type": "markdown",
      "metadata": {
        "id": "ex298BCWqEPC",
        "colab_type": "text"
      },
      "source": [
        "the unique tensor can be use to sort data in a tensor and avoid repetitive data."
      ]
    },
    {
      "cell_type": "markdown",
      "metadata": {
        "id": "99aGd5XhqEPC",
        "colab_type": "text"
      },
      "source": [
        "## Function 2 - torch.prod()\n",
        "\n",
        "Returns the product of all elements in the input tensor."
      ]
    },
    {
      "cell_type": "code",
      "metadata": {
        "id": "ZgI85uw_qEPD",
        "colab_type": "code",
        "outputId": "664895c6-2cce-4d96-ce6e-0067716451f1",
        "colab": {
          "base_uri": "https://localhost:8080/",
          "height": 34
        }
      },
      "source": [
        "# Example 1 - torch.prod(input, dtype=None)\n",
        "a = torch.randn(1, 3)\n",
        "a\n",
        "torch.prod(a)\n",
        "\n"
      ],
      "execution_count": 0,
      "outputs": [
        {
          "output_type": "execute_result",
          "data": {
            "text/plain": [
              "tensor(0.0109)"
            ]
          },
          "metadata": {
            "tags": []
          },
          "execution_count": 9
        }
      ]
    },
    {
      "cell_type": "code",
      "metadata": {
        "id": "Q3qOAatoqEPL",
        "colab_type": "code",
        "outputId": "cee4ff51-119a-4d66-8d1b-d312c02e7b9b",
        "colab": {
          "base_uri": "https://localhost:8080/",
          "height": 34
        }
      },
      "source": [
        "# Example 2 - torch.prod(input, dim, keepdim=False, dtype=None)\n",
        "\n",
        "a = torch.randn(4, 2)\n",
        "a\n",
        "torch.prod(a, 1)\n",
        "\n"
      ],
      "execution_count": 0,
      "outputs": [
        {
          "output_type": "execute_result",
          "data": {
            "text/plain": [
              "tensor([ 0.8728, -1.2239,  0.0473, -0.0071])"
            ]
          },
          "metadata": {
            "tags": []
          },
          "execution_count": 10
        }
      ]
    },
    {
      "cell_type": "markdown",
      "metadata": {
        "id": "valhx47xqEPO",
        "colab_type": "text"
      },
      "source": [
        "Returns the product of each row of the input tensor in the given dimension dim."
      ]
    },
    {
      "cell_type": "markdown",
      "metadata": {
        "id": "xif2AISfqEPR",
        "colab_type": "text"
      },
      "source": [
        "## Function 3 - torch.norm()\n",
        "\n",
        "Returns the matrix norm or vector norm of a given tensor."
      ]
    },
    {
      "cell_type": "code",
      "metadata": {
        "id": "XanQaGqNqEPR",
        "colab_type": "code",
        "outputId": "139d9334-e336-45ed-c990-f3c2e613a971",
        "colab": {
          "base_uri": "https://localhost:8080/",
          "height": 34
        }
      },
      "source": [
        "# Example 1 \n",
        "a = torch.arange(9, dtype= torch.float) - 4\n",
        "b = a.reshape((3, 3))\n",
        "torch.norm(a)\n",
        "torch.norm(b)\n",
        "\n",
        "torch.norm(a, float('inf'))\n",
        "\n",
        "torch.norm(b, float('inf'))\n",
        "\n",
        "c = torch.tensor([[ 1, 2, 3],[-1, 1, 4]] , dtype= torch.float)\n",
        "torch.norm(c, dim=0)\n",
        "torch.norm(c, dim=1)\n",
        "\n",
        "torch.norm(c, p=1, dim=1)\n",
        "d = torch.arange(8, dtype= torch.float).reshape(2,2,2)\n",
        "torch.norm(d, dim=(1,2))\n",
        "\n",
        "torch.norm(d[0, :, :]), torch.norm(d[1, :, :])"
      ],
      "execution_count": 0,
      "outputs": [
        {
          "output_type": "execute_result",
          "data": {
            "text/plain": [
              "(tensor(3.7417), tensor(11.2250))"
            ]
          },
          "metadata": {
            "tags": []
          },
          "execution_count": 11
        }
      ]
    },
    {
      "cell_type": "markdown",
      "metadata": {
        "id": "SAI4Jwf2-zIt",
        "colab_type": "text"
      },
      "source": [
        ""
      ]
    },
    {
      "cell_type": "markdown",
      "metadata": {
        "id": "U-W-xKtmqEPf",
        "colab_type": "text"
      },
      "source": [
        "## Function 4 - torch.median()\n",
        "\n",
        "Returns the median value of all elements in the input tensor."
      ]
    },
    {
      "cell_type": "code",
      "metadata": {
        "id": "QCvgXkc7qEPg",
        "colab_type": "code",
        "colab": {
          "base_uri": "https://localhost:8080/",
          "height": 34
        },
        "outputId": "bb24f906-7cb4-4b24-e7d4-e660190735a4"
      },
      "source": [
        "# Example 1 \n",
        "a = torch.randn(1, 3)\n",
        "\n",
        "torch.median(a)\n"
      ],
      "execution_count": 13,
      "outputs": [
        {
          "output_type": "execute_result",
          "data": {
            "text/plain": [
              "tensor(0.2540)"
            ]
          },
          "metadata": {
            "tags": []
          },
          "execution_count": 13
        }
      ]
    },
    {
      "cell_type": "markdown",
      "metadata": {
        "id": "0tsWGNbeqEPq",
        "colab_type": "text"
      },
      "source": [
        "Knowing the median is very important in machine learning and it can be use to know the middle average speed of a car that has the data store in a pytorch array"
      ]
    },
    {
      "cell_type": "markdown",
      "metadata": {
        "id": "WecKN5VuqEPr",
        "colab_type": "text"
      },
      "source": [
        "## Function 5 - torch.argmax()\n",
        "\n",
        "Returns the indices of the maximum value of all elements in the input tensor."
      ]
    },
    {
      "cell_type": "code",
      "metadata": {
        "id": "nWQHu8CxqEPr",
        "colab_type": "code",
        "colab": {}
      },
      "source": [
        "# Example 1 \n",
        "a = torch.randn(4, 4)\n",
        "a\n",
        "\n",
        "torch.argmax(a)"
      ],
      "execution_count": 0,
      "outputs": []
    },
    {
      "cell_type": "markdown",
      "metadata": {
        "id": "wbeYn430qEP3",
        "colab_type": "text"
      },
      "source": [
        "This allow the user to know the position of the higest number in a tensor. Therefore if we have different scales of song we can identify where the highest pitch is located."
      ]
    },
    {
      "cell_type": "markdown",
      "metadata": {
        "id": "N1nxgDpSqEP3",
        "colab_type": "text"
      },
      "source": [
        "## Conclusion\n",
        "\n",
        "This notebook is a set of few pytorch function that I find particularly interesting because of their purpose related to predictions and sorting. I will encourage you to continue reading more about the documentation on the official website of Pytorch"
      ]
    },
    {
      "cell_type": "markdown",
      "metadata": {
        "id": "PSPkZjDKqEP4",
        "colab_type": "text"
      },
      "source": [
        "## Reference Links\n",
        "Provide links to your references and other interesting articles about tensors\n",
        "* Official documentation for `torch.Tensor`: https://pytorch.org/docs/stable/tensors.html\n"
      ]
    },
    {
      "cell_type": "code",
      "metadata": {
        "id": "lLz8ZSfpqEP5",
        "colab_type": "code",
        "colab": {}
      },
      "source": [
        "!pip install jovian --upgrade --quiet"
      ],
      "execution_count": 0,
      "outputs": []
    },
    {
      "cell_type": "code",
      "metadata": {
        "id": "UfAnGwwfqEP8",
        "colab_type": "code",
        "colab": {}
      },
      "source": [
        "import jovian"
      ],
      "execution_count": 0,
      "outputs": []
    },
    {
      "cell_type": "code",
      "metadata": {
        "id": "Dmg0aSOOqEP-",
        "colab_type": "code",
        "outputId": "e16b1c06-6011-43f4-dcca-05458e4d2511",
        "colab": {
          "base_uri": "https://localhost:8080/",
          "height": 34
        }
      },
      "source": [
        "jovian.commit()"
      ],
      "execution_count": 16,
      "outputs": [
        {
          "output_type": "stream",
          "text": [
            "\u001b[31m[jovian] Error: Failed to detect Jupyter notebook or Python script. Skipping..\u001b[0m\n"
          ],
          "name": "stderr"
        }
      ]
    },
    {
      "cell_type": "code",
      "metadata": {
        "id": "I_S06490qEQB",
        "colab_type": "code",
        "colab": {}
      },
      "source": [
        ""
      ],
      "execution_count": 0,
      "outputs": []
    }
  ]
}